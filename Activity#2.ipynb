{
 "cells": [
  {
   "cell_type": "code",
   "execution_count": 1,
   "id": "4d9295b8-1bc1-4d1a-ae1b-8d74296d5ea8",
   "metadata": {},
   "outputs": [],
   "source": [
    "import numpy as np\n",
    "import pandas as pd\n",
    "import seaborn as sns\n",
    "import matplotlib.pyplot as plt\n",
    "from scipy.stats import f_oneway\n",
    "\n",
    "import warnings\n",
    "warnings.filterwarnings(\"ignore\")"
   ]
  },
  {
   "cell_type": "code",
   "execution_count": 2,
   "id": "2cc23cbc-0e18-4283-94f4-370fef112eff",
   "metadata": {},
   "outputs": [],
   "source": [
    "accident = pd.read_csv('dataset\\\\uk_road_accident.csv')"
   ]
  },
  {
   "cell_type": "code",
   "execution_count": 3,
   "id": "f2be5c16-8d83-4d80-8724-0e7d67f36d36",
   "metadata": {},
   "outputs": [
    {
     "data": {
      "text/html": [
       "<div>\n",
       "<style scoped>\n",
       "    .dataframe tbody tr th:only-of-type {\n",
       "        vertical-align: middle;\n",
       "    }\n",
       "\n",
       "    .dataframe tbody tr th {\n",
       "        vertical-align: top;\n",
       "    }\n",
       "\n",
       "    .dataframe thead th {\n",
       "        text-align: right;\n",
       "    }\n",
       "</style>\n",
       "<table border=\"1\" class=\"dataframe\">\n",
       "  <thead>\n",
       "    <tr style=\"text-align: right;\">\n",
       "      <th></th>\n",
       "      <th>Index</th>\n",
       "      <th>Accident_Severity</th>\n",
       "      <th>Accident Date</th>\n",
       "      <th>Latitude</th>\n",
       "      <th>Light_Conditions</th>\n",
       "      <th>District Area</th>\n",
       "      <th>Longitude</th>\n",
       "      <th>Number_of_Casualties</th>\n",
       "      <th>Number_of_Vehicles</th>\n",
       "      <th>Road_Surface_Conditions</th>\n",
       "      <th>Road_Type</th>\n",
       "      <th>Urban_or_Rural_Area</th>\n",
       "      <th>Weather_Conditions</th>\n",
       "      <th>Vehicle_Type</th>\n",
       "    </tr>\n",
       "  </thead>\n",
       "  <tbody>\n",
       "    <tr>\n",
       "      <th>0</th>\n",
       "      <td>200701BS64157</td>\n",
       "      <td>Serious</td>\n",
       "      <td>5/6/2019</td>\n",
       "      <td>51.506187</td>\n",
       "      <td>Darkness - lights lit</td>\n",
       "      <td>Kensington and Chelsea</td>\n",
       "      <td>-0.209082</td>\n",
       "      <td>1</td>\n",
       "      <td>2</td>\n",
       "      <td>Dry</td>\n",
       "      <td>Single carriageway</td>\n",
       "      <td>Urban</td>\n",
       "      <td>Fine no high winds</td>\n",
       "      <td>Car</td>\n",
       "    </tr>\n",
       "    <tr>\n",
       "      <th>1</th>\n",
       "      <td>200701BS65737</td>\n",
       "      <td>Serious</td>\n",
       "      <td>2/7/2019</td>\n",
       "      <td>51.495029</td>\n",
       "      <td>Daylight</td>\n",
       "      <td>Kensington and Chelsea</td>\n",
       "      <td>-0.173647</td>\n",
       "      <td>1</td>\n",
       "      <td>2</td>\n",
       "      <td>Wet or damp</td>\n",
       "      <td>Single carriageway</td>\n",
       "      <td>Urban</td>\n",
       "      <td>Raining no high winds</td>\n",
       "      <td>Car</td>\n",
       "    </tr>\n",
       "    <tr>\n",
       "      <th>2</th>\n",
       "      <td>200701BS66127</td>\n",
       "      <td>Serious</td>\n",
       "      <td>26-08-2019</td>\n",
       "      <td>51.517715</td>\n",
       "      <td>Darkness - lighting unknown</td>\n",
       "      <td>Kensington and Chelsea</td>\n",
       "      <td>-0.210215</td>\n",
       "      <td>1</td>\n",
       "      <td>3</td>\n",
       "      <td>Dry</td>\n",
       "      <td>NaN</td>\n",
       "      <td>Urban</td>\n",
       "      <td>NaN</td>\n",
       "      <td>Taxi/Private hire car</td>\n",
       "    </tr>\n",
       "    <tr>\n",
       "      <th>3</th>\n",
       "      <td>200701BS66128</td>\n",
       "      <td>Serious</td>\n",
       "      <td>16-08-2019</td>\n",
       "      <td>51.495478</td>\n",
       "      <td>Daylight</td>\n",
       "      <td>Kensington and Chelsea</td>\n",
       "      <td>-0.202731</td>\n",
       "      <td>1</td>\n",
       "      <td>4</td>\n",
       "      <td>Dry</td>\n",
       "      <td>Single carriageway</td>\n",
       "      <td>Urban</td>\n",
       "      <td>Fine no high winds</td>\n",
       "      <td>Bus or coach (17 or more pass seats)</td>\n",
       "    </tr>\n",
       "    <tr>\n",
       "      <th>4</th>\n",
       "      <td>200701BS66837</td>\n",
       "      <td>Slight</td>\n",
       "      <td>3/9/2019</td>\n",
       "      <td>51.488576</td>\n",
       "      <td>Darkness - lights lit</td>\n",
       "      <td>Kensington and Chelsea</td>\n",
       "      <td>-0.192487</td>\n",
       "      <td>1</td>\n",
       "      <td>2</td>\n",
       "      <td>Dry</td>\n",
       "      <td>NaN</td>\n",
       "      <td>Urban</td>\n",
       "      <td>NaN</td>\n",
       "      <td>Other vehicle</td>\n",
       "    </tr>\n",
       "    <tr>\n",
       "      <th>...</th>\n",
       "      <td>...</td>\n",
       "      <td>...</td>\n",
       "      <td>...</td>\n",
       "      <td>...</td>\n",
       "      <td>...</td>\n",
       "      <td>...</td>\n",
       "      <td>...</td>\n",
       "      <td>...</td>\n",
       "      <td>...</td>\n",
       "      <td>...</td>\n",
       "      <td>...</td>\n",
       "      <td>...</td>\n",
       "      <td>...</td>\n",
       "      <td>...</td>\n",
       "    </tr>\n",
       "    <tr>\n",
       "      <th>660674</th>\n",
       "      <td>201091NM01760</td>\n",
       "      <td>Slight</td>\n",
       "      <td>18-02-2022</td>\n",
       "      <td>57.374005</td>\n",
       "      <td>Daylight</td>\n",
       "      <td>Highland</td>\n",
       "      <td>-3.467828</td>\n",
       "      <td>2</td>\n",
       "      <td>1</td>\n",
       "      <td>Dry</td>\n",
       "      <td>Single carriageway</td>\n",
       "      <td>Rural</td>\n",
       "      <td>Fine no high winds</td>\n",
       "      <td>Car</td>\n",
       "    </tr>\n",
       "    <tr>\n",
       "      <th>660675</th>\n",
       "      <td>201091NM01881</td>\n",
       "      <td>Slight</td>\n",
       "      <td>21-02-2022</td>\n",
       "      <td>57.232273</td>\n",
       "      <td>Darkness - no lighting</td>\n",
       "      <td>Highland</td>\n",
       "      <td>-3.809281</td>\n",
       "      <td>1</td>\n",
       "      <td>1</td>\n",
       "      <td>Frost or ice</td>\n",
       "      <td>Single carriageway</td>\n",
       "      <td>Rural</td>\n",
       "      <td>Fine no high winds</td>\n",
       "      <td>Car</td>\n",
       "    </tr>\n",
       "    <tr>\n",
       "      <th>660676</th>\n",
       "      <td>201091NM01935</td>\n",
       "      <td>Slight</td>\n",
       "      <td>23-02-2022</td>\n",
       "      <td>57.585044</td>\n",
       "      <td>Daylight</td>\n",
       "      <td>Highland</td>\n",
       "      <td>-3.862727</td>\n",
       "      <td>1</td>\n",
       "      <td>3</td>\n",
       "      <td>Frost or ice</td>\n",
       "      <td>Single carriageway</td>\n",
       "      <td>Rural</td>\n",
       "      <td>Fine no high winds</td>\n",
       "      <td>Car</td>\n",
       "    </tr>\n",
       "    <tr>\n",
       "      <th>660677</th>\n",
       "      <td>201091NM01964</td>\n",
       "      <td>Serious</td>\n",
       "      <td>23-02-2022</td>\n",
       "      <td>57.214898</td>\n",
       "      <td>Darkness - no lighting</td>\n",
       "      <td>Highland</td>\n",
       "      <td>-3.823997</td>\n",
       "      <td>1</td>\n",
       "      <td>2</td>\n",
       "      <td>Wet or damp</td>\n",
       "      <td>Single carriageway</td>\n",
       "      <td>Rural</td>\n",
       "      <td>Fine no high winds</td>\n",
       "      <td>Motorcycle over 500cc</td>\n",
       "    </tr>\n",
       "    <tr>\n",
       "      <th>660678</th>\n",
       "      <td>201091NM02142</td>\n",
       "      <td>Serious</td>\n",
       "      <td>28-02-2022</td>\n",
       "      <td>57.575210</td>\n",
       "      <td>Daylight</td>\n",
       "      <td>Highland</td>\n",
       "      <td>-3.895673</td>\n",
       "      <td>1</td>\n",
       "      <td>1</td>\n",
       "      <td>Wet or damp</td>\n",
       "      <td>Dual carriageway</td>\n",
       "      <td>Rural</td>\n",
       "      <td>Snowing no high winds</td>\n",
       "      <td>Car</td>\n",
       "    </tr>\n",
       "  </tbody>\n",
       "</table>\n",
       "<p>660679 rows × 14 columns</p>\n",
       "</div>"
      ],
      "text/plain": [
       "                Index Accident_Severity Accident Date   Latitude  \\\n",
       "0       200701BS64157           Serious      5/6/2019  51.506187   \n",
       "1       200701BS65737           Serious      2/7/2019  51.495029   \n",
       "2       200701BS66127           Serious    26-08-2019  51.517715   \n",
       "3       200701BS66128           Serious    16-08-2019  51.495478   \n",
       "4       200701BS66837            Slight      3/9/2019  51.488576   \n",
       "...               ...               ...           ...        ...   \n",
       "660674  201091NM01760            Slight    18-02-2022  57.374005   \n",
       "660675  201091NM01881            Slight    21-02-2022  57.232273   \n",
       "660676  201091NM01935            Slight    23-02-2022  57.585044   \n",
       "660677  201091NM01964           Serious    23-02-2022  57.214898   \n",
       "660678  201091NM02142           Serious    28-02-2022  57.575210   \n",
       "\n",
       "                   Light_Conditions           District Area  Longitude  \\\n",
       "0             Darkness - lights lit  Kensington and Chelsea  -0.209082   \n",
       "1                          Daylight  Kensington and Chelsea  -0.173647   \n",
       "2       Darkness - lighting unknown  Kensington and Chelsea  -0.210215   \n",
       "3                          Daylight  Kensington and Chelsea  -0.202731   \n",
       "4             Darkness - lights lit  Kensington and Chelsea  -0.192487   \n",
       "...                             ...                     ...        ...   \n",
       "660674                     Daylight                Highland  -3.467828   \n",
       "660675       Darkness - no lighting                Highland  -3.809281   \n",
       "660676                     Daylight                Highland  -3.862727   \n",
       "660677       Darkness - no lighting                Highland  -3.823997   \n",
       "660678                     Daylight                Highland  -3.895673   \n",
       "\n",
       "        Number_of_Casualties  Number_of_Vehicles Road_Surface_Conditions  \\\n",
       "0                          1                   2                     Dry   \n",
       "1                          1                   2             Wet or damp   \n",
       "2                          1                   3                     Dry   \n",
       "3                          1                   4                     Dry   \n",
       "4                          1                   2                     Dry   \n",
       "...                      ...                 ...                     ...   \n",
       "660674                     2                   1                     Dry   \n",
       "660675                     1                   1            Frost or ice   \n",
       "660676                     1                   3            Frost or ice   \n",
       "660677                     1                   2             Wet or damp   \n",
       "660678                     1                   1             Wet or damp   \n",
       "\n",
       "                 Road_Type Urban_or_Rural_Area     Weather_Conditions  \\\n",
       "0       Single carriageway               Urban     Fine no high winds   \n",
       "1       Single carriageway               Urban  Raining no high winds   \n",
       "2                      NaN               Urban                    NaN   \n",
       "3       Single carriageway               Urban     Fine no high winds   \n",
       "4                      NaN               Urban                    NaN   \n",
       "...                    ...                 ...                    ...   \n",
       "660674  Single carriageway               Rural     Fine no high winds   \n",
       "660675  Single carriageway               Rural     Fine no high winds   \n",
       "660676  Single carriageway               Rural     Fine no high winds   \n",
       "660677  Single carriageway               Rural     Fine no high winds   \n",
       "660678    Dual carriageway               Rural  Snowing no high winds   \n",
       "\n",
       "                                Vehicle_Type  \n",
       "0                                        Car  \n",
       "1                                        Car  \n",
       "2                      Taxi/Private hire car  \n",
       "3       Bus or coach (17 or more pass seats)  \n",
       "4                              Other vehicle  \n",
       "...                                      ...  \n",
       "660674                                   Car  \n",
       "660675                                   Car  \n",
       "660676                                   Car  \n",
       "660677                 Motorcycle over 500cc  \n",
       "660678                                   Car  \n",
       "\n",
       "[660679 rows x 14 columns]"
      ]
     },
     "execution_count": 3,
     "metadata": {},
     "output_type": "execute_result"
    }
   ],
   "source": [
    "accident"
   ]
  },
  {
   "cell_type": "code",
   "execution_count": 4,
   "id": "c00e7b32-4a54-40db-8e4b-4e254682fce8",
   "metadata": {},
   "outputs": [
    {
     "data": {
      "text/plain": [
       "Index                          0\n",
       "Accident_Severity              0\n",
       "Accident Date                  0\n",
       "Latitude                      25\n",
       "Light_Conditions               0\n",
       "District Area                  0\n",
       "Longitude                     26\n",
       "Number_of_Casualties           0\n",
       "Number_of_Vehicles             0\n",
       "Road_Surface_Conditions      726\n",
       "Road_Type                   4520\n",
       "Urban_or_Rural_Area           15\n",
       "Weather_Conditions         14128\n",
       "Vehicle_Type                   0\n",
       "dtype: int64"
      ]
     },
     "execution_count": 4,
     "metadata": {},
     "output_type": "execute_result"
    }
   ],
   "source": [
    "accident.isnull().sum()"
   ]
  },
  {
   "cell_type": "code",
   "execution_count": 5,
   "id": "e54d8ccf-f7fd-4d85-b96d-b06ed9889499",
   "metadata": {},
   "outputs": [
    {
     "name": "stdout",
     "output_type": "stream",
     "text": [
      "<class 'pandas.core.frame.DataFrame'>\n",
      "RangeIndex: 660679 entries, 0 to 660678\n",
      "Data columns (total 14 columns):\n",
      " #   Column                   Non-Null Count   Dtype  \n",
      "---  ------                   --------------   -----  \n",
      " 0   Index                    660679 non-null  object \n",
      " 1   Accident_Severity        660679 non-null  object \n",
      " 2   Accident Date            660679 non-null  object \n",
      " 3   Latitude                 660654 non-null  float64\n",
      " 4   Light_Conditions         660679 non-null  object \n",
      " 5   District Area            660679 non-null  object \n",
      " 6   Longitude                660653 non-null  float64\n",
      " 7   Number_of_Casualties     660679 non-null  int64  \n",
      " 8   Number_of_Vehicles       660679 non-null  int64  \n",
      " 9   Road_Surface_Conditions  659953 non-null  object \n",
      " 10  Road_Type                656159 non-null  object \n",
      " 11  Urban_or_Rural_Area      660664 non-null  object \n",
      " 12  Weather_Conditions       646551 non-null  object \n",
      " 13  Vehicle_Type             660679 non-null  object \n",
      "dtypes: float64(2), int64(2), object(10)\n",
      "memory usage: 70.6+ MB\n"
     ]
    }
   ],
   "source": [
    "accident.info()"
   ]
  },
  {
   "cell_type": "code",
   "execution_count": 6,
   "id": "2cca2350-bf63-4fd1-9395-dd64c1086588",
   "metadata": {},
   "outputs": [],
   "source": [
    "accident['Latitude'] = accident['Latitude'].fillna(accident['Latitude'].mean())\n",
    "accident['Longitude'] = accident['Longitude'].fillna(accident['Longitude'].mean())\n",
    "accident['Road_Surface_Conditions'] = accident['Road_Surface_Conditions'].fillna(accident['Road_Surface_Conditions'].mode()[0])\n",
    "accident['Road_Type'] = accident['Road_Type'].fillna(accident['Road_Type'].mode()[0])\n",
    "accident['Urban_or_Rural_Area'] = accident['Urban_or_Rural_Area'].fillna(accident['Urban_or_Rural_Area'].mode()[0])\n",
    "accident['Weather_Conditions'] = accident['Weather_Conditions'].fillna(accident['Weather_Conditions'].mode()[0])"
   ]
  },
  {
   "cell_type": "markdown",
   "id": "ee34b301-7afc-4c28-8971-e9a398f73724",
   "metadata": {},
   "source": [
    "<h1>1) What is the overall distribution of Accident Severity (e.g., Fatal, Serious, Slight)?</h1>"
   ]
  },
  {
   "cell_type": "code",
   "execution_count": 7,
   "id": "1f814516-6646-4986-b3cb-e401ded5559a",
   "metadata": {},
   "outputs": [
    {
     "data": {
      "text/plain": [
       "Accident_Severity\n",
       "Slight     563801\n",
       "Serious     88217\n",
       "Fatal        8661\n",
       "Name: count, dtype: int64"
      ]
     },
     "execution_count": 7,
     "metadata": {},
     "output_type": "execute_result"
    }
   ],
   "source": [
    "accident['Accident_Severity'].value_counts()"
   ]
  },
  {
   "cell_type": "markdown",
   "id": "bfd8908a-2881-4121-a4ea-6b590617cb9f",
   "metadata": {},
   "source": [
    "<h2>Insights : The overall distribution of Accidents severity are </h2>\n",
    "<h4>from the lowest being Fatal with 8661 recorded accidents<br>from the middle range being Serious with 88217 recorded accidents<br>from the lowest being Fatal with 563801 recorded accidents</h4>"
   ]
  },
  {
   "cell_type": "markdown",
   "id": "23b6990f-a20d-4d01-a9a3-fe6e24f14a38",
   "metadata": {},
   "source": [
    "<h1>2) Which District Area reports the highest number of severe accidents?</h1>"
   ]
  },
  {
   "cell_type": "code",
   "execution_count": 8,
   "id": "7b42bb1e-1df3-4d0c-ac94-2e20c4b3301f",
   "metadata": {},
   "outputs": [
    {
     "data": {
      "text/plain": [
       "Accident_Severity  District Area           \n",
       "Fatal              Birmingham                  105\n",
       "                   Leeds                        93\n",
       "                   Highland                     88\n",
       "                   East Riding of Yorkshire     85\n",
       "                   Bradford                     71\n",
       "                                              ... \n",
       "Slight             Berwick-upon-Tweed          121\n",
       "                   Shetland Islands            113\n",
       "                   Teesdale                    110\n",
       "                   Orkney Islands               96\n",
       "                   Clackmannanshire             72\n",
       "Name: count, Length: 1266, dtype: int64"
      ]
     },
     "execution_count": 8,
     "metadata": {},
     "output_type": "execute_result"
    }
   ],
   "source": [
    "accident.groupby('Accident_Severity')['District Area'].value_counts()"
   ]
  },
  {
   "cell_type": "code",
   "execution_count": 9,
   "id": "896249cd-52d2-4465-8929-c56979019d7d",
   "metadata": {},
   "outputs": [
    {
     "data": {
      "text/plain": [
       "count           8661\n",
       "unique           422\n",
       "top       Birmingham\n",
       "freq             105\n",
       "Name: District Area, dtype: object"
      ]
     },
     "execution_count": 9,
     "metadata": {},
     "output_type": "execute_result"
    }
   ],
   "source": [
    "accident[accident['Accident_Severity'] == 'Fatal']['District Area'].describe()"
   ]
  },
  {
   "cell_type": "code",
   "execution_count": 10,
   "id": "f3bd674c-7aec-4526-aabc-7a6e88d30153",
   "metadata": {},
   "outputs": [
    {
     "data": {
      "text/plain": [
       "count          88217\n",
       "unique           422\n",
       "top       Birmingham\n",
       "freq            1474\n",
       "Name: District Area, dtype: object"
      ]
     },
     "execution_count": 10,
     "metadata": {},
     "output_type": "execute_result"
    }
   ],
   "source": [
    "accident[accident['Accident_Severity'] == 'Serious']['District Area'].describe()"
   ]
  },
  {
   "cell_type": "markdown",
   "id": "d9835de0-e935-42d9-affe-9c2634181205",
   "metadata": {},
   "source": [
    "<h2>Insights : The District Area with highest Accident Severity is <b>\"Birmingham\"</b> </h2>\n",
    "<h4> With a toal value of <b> 105 Fatal accidents </b> only in Birmingham <br> and a total value of <b> 1474 Fatal accidents  </b>in Birmingham </h4>"
   ]
  },
  {
   "cell_type": "markdown",
   "id": "75d16453-80dc-4121-8496-5385529b083a",
   "metadata": {},
   "source": [
    "<h1>3) How does the number of casualties differ by Accident Severity?</h1>"
   ]
  },
  {
   "cell_type": "code",
   "execution_count": 11,
   "id": "6b62b305-d1fb-456c-a903-522815615e00",
   "metadata": {},
   "outputs": [
    {
     "data": {
      "text/html": [
       "<div>\n",
       "<style scoped>\n",
       "    .dataframe tbody tr th:only-of-type {\n",
       "        vertical-align: middle;\n",
       "    }\n",
       "\n",
       "    .dataframe tbody tr th {\n",
       "        vertical-align: top;\n",
       "    }\n",
       "\n",
       "    .dataframe thead th {\n",
       "        text-align: right;\n",
       "    }\n",
       "</style>\n",
       "<table border=\"1\" class=\"dataframe\">\n",
       "  <thead>\n",
       "    <tr style=\"text-align: right;\">\n",
       "      <th></th>\n",
       "      <th>count</th>\n",
       "      <th>mean</th>\n",
       "      <th>std</th>\n",
       "      <th>min</th>\n",
       "      <th>25%</th>\n",
       "      <th>50%</th>\n",
       "      <th>75%</th>\n",
       "      <th>max</th>\n",
       "    </tr>\n",
       "    <tr>\n",
       "      <th>Accident_Severity</th>\n",
       "      <th></th>\n",
       "      <th></th>\n",
       "      <th></th>\n",
       "      <th></th>\n",
       "      <th></th>\n",
       "      <th></th>\n",
       "      <th></th>\n",
       "      <th></th>\n",
       "    </tr>\n",
       "  </thead>\n",
       "  <tbody>\n",
       "    <tr>\n",
       "      <th>Fatal</th>\n",
       "      <td>8661.0</td>\n",
       "      <td>1.903129</td>\n",
       "      <td>1.901614</td>\n",
       "      <td>1.0</td>\n",
       "      <td>1.0</td>\n",
       "      <td>1.0</td>\n",
       "      <td>2.0</td>\n",
       "      <td>68.0</td>\n",
       "    </tr>\n",
       "    <tr>\n",
       "      <th>Serious</th>\n",
       "      <td>88217.0</td>\n",
       "      <td>1.467280</td>\n",
       "      <td>1.027915</td>\n",
       "      <td>1.0</td>\n",
       "      <td>1.0</td>\n",
       "      <td>1.0</td>\n",
       "      <td>2.0</td>\n",
       "      <td>45.0</td>\n",
       "    </tr>\n",
       "    <tr>\n",
       "      <th>Slight</th>\n",
       "      <td>563801.0</td>\n",
       "      <td>1.331402</td>\n",
       "      <td>0.754502</td>\n",
       "      <td>1.0</td>\n",
       "      <td>1.0</td>\n",
       "      <td>1.0</td>\n",
       "      <td>1.0</td>\n",
       "      <td>47.0</td>\n",
       "    </tr>\n",
       "  </tbody>\n",
       "</table>\n",
       "</div>"
      ],
      "text/plain": [
       "                      count      mean       std  min  25%  50%  75%   max\n",
       "Accident_Severity                                                        \n",
       "Fatal                8661.0  1.903129  1.901614  1.0  1.0  1.0  2.0  68.0\n",
       "Serious             88217.0  1.467280  1.027915  1.0  1.0  1.0  2.0  45.0\n",
       "Slight             563801.0  1.331402  0.754502  1.0  1.0  1.0  1.0  47.0"
      ]
     },
     "execution_count": 11,
     "metadata": {},
     "output_type": "execute_result"
    }
   ],
   "source": [
    "accident.groupby('Accident_Severity')['Number_of_Casualties'].describe()"
   ]
  },
  {
   "cell_type": "code",
   "execution_count": 12,
   "id": "e167d130-3f41-4639-8b31-92032d171bf5",
   "metadata": {},
   "outputs": [
    {
     "data": {
      "text/plain": [
       "Accident_Severity\n",
       "Fatal      1.903129\n",
       "Serious    1.467280\n",
       "Slight     1.331402\n",
       "Name: Number_of_Casualties, dtype: float64"
      ]
     },
     "execution_count": 12,
     "metadata": {},
     "output_type": "execute_result"
    }
   ],
   "source": [
    "accident.groupby('Accident_Severity')['Number_of_Casualties'].mean()"
   ]
  },
  {
   "cell_type": "markdown",
   "id": "748d1ca6-3d35-4da8-9bee-bec1c40b3731",
   "metadata": {},
   "source": [
    "<h2> Insights : The number of Casualties by Accident severity (Serious, Slight, Fatal) </h2>\n",
    "<h4 style=textcolor:\"blue\"> Most accidents across all severity levels involve only one casualty, but Fatal accidents tend to have more people affected on average (≈1.9 per accident) compared to Serious (≈1.5) and Slight (≈1.3). This suggests that when an accident is fatal, it is more likely to involve multiple casualties, and although rare, some accidents can result in extremely high casualty counts (up to 68).</h4>"
   ]
  },
  {
   "cell_type": "markdown",
   "id": "dedeb727-e7f0-4704-ad09-16b3b60beef5",
   "metadata": {},
   "source": [
    "<h1>4) On average, how many vehicles are involved in accidents by severity level?</h1>"
   ]
  },
  {
   "cell_type": "code",
   "execution_count": 13,
   "id": "5081320a-9bb6-4ae0-9007-f3e6ffb27740",
   "metadata": {},
   "outputs": [
    {
     "data": {
      "text/html": [
       "<div>\n",
       "<style scoped>\n",
       "    .dataframe tbody tr th:only-of-type {\n",
       "        vertical-align: middle;\n",
       "    }\n",
       "\n",
       "    .dataframe tbody tr th {\n",
       "        vertical-align: top;\n",
       "    }\n",
       "\n",
       "    .dataframe thead th {\n",
       "        text-align: right;\n",
       "    }\n",
       "</style>\n",
       "<table border=\"1\" class=\"dataframe\">\n",
       "  <thead>\n",
       "    <tr style=\"text-align: right;\">\n",
       "      <th></th>\n",
       "      <th>count</th>\n",
       "      <th>mean</th>\n",
       "      <th>std</th>\n",
       "      <th>min</th>\n",
       "      <th>25%</th>\n",
       "      <th>50%</th>\n",
       "      <th>75%</th>\n",
       "      <th>max</th>\n",
       "    </tr>\n",
       "    <tr>\n",
       "      <th>Accident_Severity</th>\n",
       "      <th></th>\n",
       "      <th></th>\n",
       "      <th></th>\n",
       "      <th></th>\n",
       "      <th></th>\n",
       "      <th></th>\n",
       "      <th></th>\n",
       "      <th></th>\n",
       "    </tr>\n",
       "  </thead>\n",
       "  <tbody>\n",
       "    <tr>\n",
       "      <th>Fatal</th>\n",
       "      <td>8661.0</td>\n",
       "      <td>1.786976</td>\n",
       "      <td>1.022719</td>\n",
       "      <td>1.0</td>\n",
       "      <td>1.0</td>\n",
       "      <td>2.0</td>\n",
       "      <td>2.0</td>\n",
       "      <td>28.0</td>\n",
       "    </tr>\n",
       "    <tr>\n",
       "      <th>Serious</th>\n",
       "      <td>88217.0</td>\n",
       "      <td>1.678327</td>\n",
       "      <td>0.751475</td>\n",
       "      <td>1.0</td>\n",
       "      <td>1.0</td>\n",
       "      <td>2.0</td>\n",
       "      <td>2.0</td>\n",
       "      <td>19.0</td>\n",
       "    </tr>\n",
       "    <tr>\n",
       "      <th>Slight</th>\n",
       "      <td>563801.0</td>\n",
       "      <td>1.855864</td>\n",
       "      <td>0.700571</td>\n",
       "      <td>1.0</td>\n",
       "      <td>1.0</td>\n",
       "      <td>2.0</td>\n",
       "      <td>2.0</td>\n",
       "      <td>32.0</td>\n",
       "    </tr>\n",
       "  </tbody>\n",
       "</table>\n",
       "</div>"
      ],
      "text/plain": [
       "                      count      mean       std  min  25%  50%  75%   max\n",
       "Accident_Severity                                                        \n",
       "Fatal                8661.0  1.786976  1.022719  1.0  1.0  2.0  2.0  28.0\n",
       "Serious             88217.0  1.678327  0.751475  1.0  1.0  2.0  2.0  19.0\n",
       "Slight             563801.0  1.855864  0.700571  1.0  1.0  2.0  2.0  32.0"
      ]
     },
     "execution_count": 13,
     "metadata": {},
     "output_type": "execute_result"
    }
   ],
   "source": [
    "accident.groupby('Accident_Severity')['Number_of_Vehicles'].describe()"
   ]
  },
  {
   "cell_type": "code",
   "execution_count": 14,
   "id": "d840faf2-d1c1-40f6-b652-46325ec7d48c",
   "metadata": {},
   "outputs": [
    {
     "data": {
      "text/plain": [
       "Accident_Severity\n",
       "Fatal      1.786976\n",
       "Serious    1.678327\n",
       "Slight     1.855864\n",
       "Name: Number_of_Vehicles, dtype: float64"
      ]
     },
     "execution_count": 14,
     "metadata": {},
     "output_type": "execute_result"
    }
   ],
   "source": [
    "accident.groupby('Accident_Severity')['Number_of_Vehicles'].mean()"
   ]
  },
  {
   "cell_type": "markdown",
   "id": "8853e3b4-0ecd-491e-9246-e88a0508128a",
   "metadata": {},
   "source": [
    "<h4> Insights : for every severity level there is an average of <b>1.786976 vehicles</b> for cases that has severity of fatal, <b>1.678327 vehicles</b> for cases that are serious, whilst on Slight <b> 1.855864 vehicles</b> involve in accidents</h4>"
   ]
  },
  {
   "cell_type": "markdown",
   "id": "4ff039b9-ddd9-4f82-9c4b-c328c4646c5c",
   "metadata": {},
   "source": [
    "<h1>5) Which dates had the highest accident counts?</h1>"
   ]
  },
  {
   "cell_type": "code",
   "execution_count": 15,
   "id": "368e34da-31c3-4dcb-90ac-299e619e2793",
   "metadata": {},
   "outputs": [
    {
     "data": {
      "text/plain": [
       "Accident Date\n",
       "30-11-2019    704\n",
       "31-01-2019    697\n",
       "13-07-2019    692\n",
       "13-11-2021    692\n",
       "14-08-2019    688\n",
       "             ... \n",
       "30-12-2022    171\n",
       "25-12-2019    157\n",
       "25-12-2022    145\n",
       "10/1/2022     123\n",
       "25-12-2020    118\n",
       "Name: count, Length: 1461, dtype: int64"
      ]
     },
     "execution_count": 15,
     "metadata": {},
     "output_type": "execute_result"
    }
   ],
   "source": [
    "accident['Accident Date'].value_counts()"
   ]
  },
  {
   "cell_type": "markdown",
   "id": "5e712f51-4fc6-45a0-998e-9d1b8a39a2a1",
   "metadata": {},
   "source": [
    "<h2> Insights : The top 3 dates with the highest accidents occured are the following  </h2>\n",
    "<h4> <b>- November 11, 2019 </b> with <b> 704 accidents </b> that happened <br>  <b>- January 1, 2019 </b> with <b> 697 accidents </b> that occured<br> <b>- July 13, 2019 </b> with <b> 692 accidents </b> that occured</h4>"
   ]
  },
  {
   "cell_type": "markdown",
   "id": "f11bc109-9eda-4259-b287-d65bd2e66a8d",
   "metadata": {},
   "source": [
    "<h1>6) Is accident severity correlated with the number of casualties??</h1>"
   ]
  },
  {
   "cell_type": "code",
   "execution_count": 16,
   "id": "53921f3d-e84c-4e5a-a794-5e9d646eaa8f",
   "metadata": {},
   "outputs": [
    {
     "data": {
      "text/html": [
       "<div>\n",
       "<style scoped>\n",
       "    .dataframe tbody tr th:only-of-type {\n",
       "        vertical-align: middle;\n",
       "    }\n",
       "\n",
       "    .dataframe tbody tr th {\n",
       "        vertical-align: top;\n",
       "    }\n",
       "\n",
       "    .dataframe thead th {\n",
       "        text-align: right;\n",
       "    }\n",
       "</style>\n",
       "<table border=\"1\" class=\"dataframe\">\n",
       "  <thead>\n",
       "    <tr style=\"text-align: right;\">\n",
       "      <th></th>\n",
       "      <th>Latitude</th>\n",
       "      <th>Longitude</th>\n",
       "      <th>Number_of_Casualties</th>\n",
       "      <th>Number_of_Vehicles</th>\n",
       "    </tr>\n",
       "  </thead>\n",
       "  <tbody>\n",
       "    <tr>\n",
       "      <th>count</th>\n",
       "      <td>660679.000000</td>\n",
       "      <td>660679.000000</td>\n",
       "      <td>660679.000000</td>\n",
       "      <td>660679.000000</td>\n",
       "    </tr>\n",
       "    <tr>\n",
       "      <th>mean</th>\n",
       "      <td>52.553866</td>\n",
       "      <td>-1.431210</td>\n",
       "      <td>1.357040</td>\n",
       "      <td>1.831255</td>\n",
       "    </tr>\n",
       "    <tr>\n",
       "      <th>std</th>\n",
       "      <td>1.406896</td>\n",
       "      <td>1.383302</td>\n",
       "      <td>0.824847</td>\n",
       "      <td>0.715269</td>\n",
       "    </tr>\n",
       "    <tr>\n",
       "      <th>min</th>\n",
       "      <td>49.914430</td>\n",
       "      <td>-7.516225</td>\n",
       "      <td>1.000000</td>\n",
       "      <td>1.000000</td>\n",
       "    </tr>\n",
       "    <tr>\n",
       "      <th>25%</th>\n",
       "      <td>51.490696</td>\n",
       "      <td>-2.332191</td>\n",
       "      <td>1.000000</td>\n",
       "      <td>1.000000</td>\n",
       "    </tr>\n",
       "    <tr>\n",
       "      <th>50%</th>\n",
       "      <td>52.315755</td>\n",
       "      <td>-1.411761</td>\n",
       "      <td>1.000000</td>\n",
       "      <td>2.000000</td>\n",
       "    </tr>\n",
       "    <tr>\n",
       "      <th>75%</th>\n",
       "      <td>53.453444</td>\n",
       "      <td>-0.232901</td>\n",
       "      <td>1.000000</td>\n",
       "      <td>2.000000</td>\n",
       "    </tr>\n",
       "    <tr>\n",
       "      <th>max</th>\n",
       "      <td>60.757544</td>\n",
       "      <td>1.762010</td>\n",
       "      <td>68.000000</td>\n",
       "      <td>32.000000</td>\n",
       "    </tr>\n",
       "  </tbody>\n",
       "</table>\n",
       "</div>"
      ],
      "text/plain": [
       "            Latitude      Longitude  Number_of_Casualties  Number_of_Vehicles\n",
       "count  660679.000000  660679.000000         660679.000000       660679.000000\n",
       "mean       52.553866      -1.431210              1.357040            1.831255\n",
       "std         1.406896       1.383302              0.824847            0.715269\n",
       "min        49.914430      -7.516225              1.000000            1.000000\n",
       "25%        51.490696      -2.332191              1.000000            1.000000\n",
       "50%        52.315755      -1.411761              1.000000            2.000000\n",
       "75%        53.453444      -0.232901              1.000000            2.000000\n",
       "max        60.757544       1.762010             68.000000           32.000000"
      ]
     },
     "execution_count": 16,
     "metadata": {},
     "output_type": "execute_result"
    }
   ],
   "source": [
    "accident.describe()"
   ]
  },
  {
   "cell_type": "code",
   "execution_count": 17,
   "id": "4febaf55-b176-48cb-be83-195604c65f19",
   "metadata": {},
   "outputs": [
    {
     "name": "stdout",
     "output_type": "stream",
     "text": [
      "F-statistic: 2985.016431113892\n",
      "p-value: 0.0\n"
     ]
    }
   ],
   "source": [
    "groups = [\n",
    "    grp[\"Number_of_Casualties\"].values\n",
    "    for name, grp in accident.groupby(\"Accident_Severity\")\n",
    "]\n",
    "\n",
    "f_stat, p_val = f_oneway(*groups)\n",
    "\n",
    "print(\"F-statistic:\", f_stat)\n",
    "print(\"p-value:\", p_val)"
   ]
  },
  {
   "cell_type": "markdown",
   "id": "c4b957cf-70dc-4b67-888f-ae826031c411",
   "metadata": {},
   "source": [
    "<h3> Insights : There are no correlation between Severity of accidents to the number of casualties</h3>"
   ]
  },
  {
   "cell_type": "markdown",
   "id": "c46f8e90-98c7-4cf1-8975-ebe54d80a7da",
   "metadata": {},
   "source": [
    "<h1>7) Do accidents cluster more in urban or rural areas?</h1>"
   ]
  },
  {
   "cell_type": "code",
   "execution_count": 18,
   "id": "b7660117-aeb4-411c-a0d5-5778eb690b51",
   "metadata": {},
   "outputs": [
    {
     "data": {
      "text/plain": [
       "Urban_or_Rural_Area\n",
       "Urban          421678\n",
       "Rural          238990\n",
       "Unallocated        11\n",
       "Name: count, dtype: int64"
      ]
     },
     "execution_count": 18,
     "metadata": {},
     "output_type": "execute_result"
    }
   ],
   "source": [
    "accident['Urban_or_Rural_Area'].value_counts()"
   ]
  },
  {
   "cell_type": "markdown",
   "id": "9d667402-b163-4f4c-8cf8-ffca8c57db85",
   "metadata": {},
   "source": [
    "<h4> Insights : According to the Data accidents usually happens on Urban areas with 421,678 cases of accidents and 238,990 cases on Rural areas </h4>"
   ]
  },
  {
   "cell_type": "markdown",
   "id": "ece74128-8e43-4532-aaba-91c73eec231b",
   "metadata": {},
   "source": [
    "<h1>8) Is there a correlation between the number of vehicles involved and the number of casualties?</h1>"
   ]
  },
  {
   "cell_type": "code",
   "execution_count": 19,
   "id": "f0521103-00f6-494f-b2b4-fc759b361c50",
   "metadata": {},
   "outputs": [
    {
     "data": {
      "text/plain": [
       "np.float64(0.22888886126927557)"
      ]
     },
     "execution_count": 19,
     "metadata": {},
     "output_type": "execute_result"
    }
   ],
   "source": [
    "accident['Number_of_Vehicles'].corr(accident['Number_of_Casualties'])"
   ]
  },
  {
   "cell_type": "markdown",
   "id": "3168d194-3af1-4520-a115-6c7902168ff4",
   "metadata": {},
   "source": [
    "<h4> Insights : There is a <b> Weak positive correlation (0.22) </b> between The number of Vehicles involved and the number of casualties as the results showed </h4>"
   ]
  },
  {
   "cell_type": "markdown",
   "id": "79955f31-71d4-41b1-a6f6-d962121efb24",
   "metadata": {},
   "source": [
    "<h1>9) How do Weather Conditions impact accident severity?</h1>"
   ]
  },
  {
   "cell_type": "code",
   "execution_count": 20,
   "id": "6d4b21de-5c7d-4825-bc00-14d52be85715",
   "metadata": {},
   "outputs": [
    {
     "data": {
      "text/html": [
       "<div>\n",
       "<style scoped>\n",
       "    .dataframe tbody tr th:only-of-type {\n",
       "        vertical-align: middle;\n",
       "    }\n",
       "\n",
       "    .dataframe tbody tr th {\n",
       "        vertical-align: top;\n",
       "    }\n",
       "\n",
       "    .dataframe thead th {\n",
       "        text-align: right;\n",
       "    }\n",
       "</style>\n",
       "<table border=\"1\" class=\"dataframe\">\n",
       "  <thead>\n",
       "    <tr style=\"text-align: right;\">\n",
       "      <th></th>\n",
       "      <th>count</th>\n",
       "      <th>unique</th>\n",
       "      <th>top</th>\n",
       "      <th>freq</th>\n",
       "    </tr>\n",
       "    <tr>\n",
       "      <th>Accident_Severity</th>\n",
       "      <th></th>\n",
       "      <th></th>\n",
       "      <th></th>\n",
       "      <th></th>\n",
       "    </tr>\n",
       "  </thead>\n",
       "  <tbody>\n",
       "    <tr>\n",
       "      <th>Fatal</th>\n",
       "      <td>8661</td>\n",
       "      <td>8</td>\n",
       "      <td>Fine no high winds</td>\n",
       "      <td>7207</td>\n",
       "    </tr>\n",
       "    <tr>\n",
       "      <th>Serious</th>\n",
       "      <td>88217</td>\n",
       "      <td>8</td>\n",
       "      <td>Fine no high winds</td>\n",
       "      <td>73285</td>\n",
       "    </tr>\n",
       "    <tr>\n",
       "      <th>Slight</th>\n",
       "      <td>563801</td>\n",
       "      <td>8</td>\n",
       "      <td>Fine no high winds</td>\n",
       "      <td>454521</td>\n",
       "    </tr>\n",
       "  </tbody>\n",
       "</table>\n",
       "</div>"
      ],
      "text/plain": [
       "                    count unique                 top    freq\n",
       "Accident_Severity                                           \n",
       "Fatal                8661      8  Fine no high winds    7207\n",
       "Serious             88217      8  Fine no high winds   73285\n",
       "Slight             563801      8  Fine no high winds  454521"
      ]
     },
     "execution_count": 20,
     "metadata": {},
     "output_type": "execute_result"
    }
   ],
   "source": [
    "accident.groupby('Accident_Severity')['Weather_Conditions'].describe()"
   ]
  },
  {
   "cell_type": "markdown",
   "id": "93eae133-27f9-4eb3-afec-6a1944648bfc",
   "metadata": {},
   "source": [
    "<h4> Insights : The weather doesn't seem to impact the Severity of accidents, as most accidents happens during <b> Fine no high winds </b> rather than what was thought to be rainy days</h4>"
   ]
  },
  {
   "cell_type": "markdown",
   "id": "7e93255c-12d1-4b2c-b2e1-d784228493e3",
   "metadata": {},
   "source": [
    "<h1>10) What is the relationship between Light Conditions (daylight, darkness, streetlights) and accidents?</h1>"
   ]
  },
  {
   "cell_type": "code",
   "execution_count": 21,
   "id": "0b287c31-aef4-4928-9efb-b9be508cf227",
   "metadata": {},
   "outputs": [
    {
     "name": "stdout",
     "output_type": "stream",
     "text": [
      "F-statistic: 534.4033532420923\n",
      "p-value: 0.0\n"
     ]
    }
   ],
   "source": [
    "groups = [\n",
    "    grp[\"Number_of_Casualties\"].values\n",
    "    for name, grp in accident.groupby(\"Light_Conditions\")\n",
    "]\n",
    "\n",
    "f_stat, p_val = f_oneway(*groups)\n",
    "\n",
    "print(\"F-statistic:\", f_stat)\n",
    "print(\"p-value:\", p_val)"
   ]
  },
  {
   "cell_type": "code",
   "execution_count": 22,
   "id": "497f73cf-6c03-4dac-8a8a-98809d0f32f0",
   "metadata": {},
   "outputs": [
    {
     "data": {
      "text/plain": [
       "Light_Conditions\n",
       "Daylight                       484880\n",
       "Darkness - lights lit          129335\n",
       "Darkness - no lighting          37437\n",
       "Darkness - lighting unknown      6484\n",
       "Darkness - lights unlit          2543\n",
       "Name: count, dtype: int64"
      ]
     },
     "execution_count": 22,
     "metadata": {},
     "output_type": "execute_result"
    }
   ],
   "source": [
    "accident['Light_Conditions'].value_counts()"
   ]
  },
  {
   "cell_type": "markdown",
   "id": "27e46e58-74e9-46a3-a974-32f05d5c2fb4",
   "metadata": {},
   "source": [
    "<h3> Insights : According to the data There is a lot more accidents that happens on Broad Daylight as it was during night hours when there are no Lights</h3>"
   ]
  },
  {
   "cell_type": "markdown",
   "id": "ec6810a9-07f0-42b5-ba91-0ddd6043e97a",
   "metadata": {},
   "source": [
    "<h1>11) Do Road Surface Conditions (dry, wet, icy) affect the number of casualties?</h1>"
   ]
  },
  {
   "cell_type": "code",
   "execution_count": 23,
   "id": "bba5ba7b-1596-45a4-8825-24e39c162043",
   "metadata": {},
   "outputs": [
    {
     "data": {
      "text/html": [
       "<div>\n",
       "<style scoped>\n",
       "    .dataframe tbody tr th:only-of-type {\n",
       "        vertical-align: middle;\n",
       "    }\n",
       "\n",
       "    .dataframe tbody tr th {\n",
       "        vertical-align: top;\n",
       "    }\n",
       "\n",
       "    .dataframe thead th {\n",
       "        text-align: right;\n",
       "    }\n",
       "</style>\n",
       "<table border=\"1\" class=\"dataframe\">\n",
       "  <thead>\n",
       "    <tr style=\"text-align: right;\">\n",
       "      <th></th>\n",
       "      <th>count</th>\n",
       "      <th>mean</th>\n",
       "      <th>std</th>\n",
       "      <th>min</th>\n",
       "      <th>25%</th>\n",
       "      <th>50%</th>\n",
       "      <th>75%</th>\n",
       "      <th>max</th>\n",
       "    </tr>\n",
       "    <tr>\n",
       "      <th>Road_Surface_Conditions</th>\n",
       "      <th></th>\n",
       "      <th></th>\n",
       "      <th></th>\n",
       "      <th></th>\n",
       "      <th></th>\n",
       "      <th></th>\n",
       "      <th></th>\n",
       "      <th></th>\n",
       "    </tr>\n",
       "  </thead>\n",
       "  <tbody>\n",
       "    <tr>\n",
       "      <th>Dry</th>\n",
       "      <td>448547.0</td>\n",
       "      <td>1.334545</td>\n",
       "      <td>0.794438</td>\n",
       "      <td>1.0</td>\n",
       "      <td>1.0</td>\n",
       "      <td>1.0</td>\n",
       "      <td>1.0</td>\n",
       "      <td>45.0</td>\n",
       "    </tr>\n",
       "    <tr>\n",
       "      <th>Flood over 3cm. deep</th>\n",
       "      <td>1017.0</td>\n",
       "      <td>1.495575</td>\n",
       "      <td>0.977216</td>\n",
       "      <td>1.0</td>\n",
       "      <td>1.0</td>\n",
       "      <td>1.0</td>\n",
       "      <td>2.0</td>\n",
       "      <td>9.0</td>\n",
       "    </tr>\n",
       "    <tr>\n",
       "      <th>Frost or ice</th>\n",
       "      <td>18517.0</td>\n",
       "      <td>1.348815</td>\n",
       "      <td>0.838040</td>\n",
       "      <td>1.0</td>\n",
       "      <td>1.0</td>\n",
       "      <td>1.0</td>\n",
       "      <td>1.0</td>\n",
       "      <td>48.0</td>\n",
       "    </tr>\n",
       "    <tr>\n",
       "      <th>Snow</th>\n",
       "      <td>5890.0</td>\n",
       "      <td>1.359593</td>\n",
       "      <td>0.765221</td>\n",
       "      <td>1.0</td>\n",
       "      <td>1.0</td>\n",
       "      <td>1.0</td>\n",
       "      <td>2.0</td>\n",
       "      <td>18.0</td>\n",
       "    </tr>\n",
       "    <tr>\n",
       "      <th>Wet or damp</th>\n",
       "      <td>186708.0</td>\n",
       "      <td>1.411064</td>\n",
       "      <td>0.890931</td>\n",
       "      <td>1.0</td>\n",
       "      <td>1.0</td>\n",
       "      <td>1.0</td>\n",
       "      <td>2.0</td>\n",
       "      <td>68.0</td>\n",
       "    </tr>\n",
       "  </tbody>\n",
       "</table>\n",
       "</div>"
      ],
      "text/plain": [
       "                            count      mean       std  min  25%  50%  75%  \\\n",
       "Road_Surface_Conditions                                                     \n",
       "Dry                      448547.0  1.334545  0.794438  1.0  1.0  1.0  1.0   \n",
       "Flood over 3cm. deep       1017.0  1.495575  0.977216  1.0  1.0  1.0  2.0   \n",
       "Frost or ice              18517.0  1.348815  0.838040  1.0  1.0  1.0  1.0   \n",
       "Snow                       5890.0  1.359593  0.765221  1.0  1.0  1.0  2.0   \n",
       "Wet or damp              186708.0  1.411064  0.890931  1.0  1.0  1.0  2.0   \n",
       "\n",
       "                          max  \n",
       "Road_Surface_Conditions        \n",
       "Dry                      45.0  \n",
       "Flood over 3cm. deep      9.0  \n",
       "Frost or ice             48.0  \n",
       "Snow                     18.0  \n",
       "Wet or damp              68.0  "
      ]
     },
     "execution_count": 23,
     "metadata": {},
     "output_type": "execute_result"
    }
   ],
   "source": [
    "accident.groupby('Road_Surface_Conditions')['Number_of_Casualties'].describe()"
   ]
  },
  {
   "cell_type": "markdown",
   "id": "241373c1-18e3-42ac-b79d-ea4199e13982",
   "metadata": {},
   "source": [
    "<h3> Insights : Road surface conditions does affect the number of Casualties, Having dry roads having the most amount of accidents occured compare to Wet,damp or snowy roads</h3>"
   ]
  },
  {
   "cell_type": "markdown",
   "id": "11ccf8ba-6a66-4783-9f9c-4dcb776714ac",
   "metadata": {},
   "source": [
    "<h1>12) Which Road Type (single carriageway, dual carriageway, roundabout, etc.) has the most accidents?</h1>"
   ]
  },
  {
   "cell_type": "code",
   "execution_count": 24,
   "id": "f390d381-e2fc-4948-9d32-0a1d2eaf2d12",
   "metadata": {},
   "outputs": [
    {
     "data": {
      "text/plain": [
       "Road_Type\n",
       "Single carriageway    496663\n",
       "Dual carriageway       99424\n",
       "Roundabout             43992\n",
       "One way street         13559\n",
       "Slip road               7041\n",
       "Name: count, dtype: int64"
      ]
     },
     "execution_count": 24,
     "metadata": {},
     "output_type": "execute_result"
    }
   ],
   "source": [
    "accident['Road_Type'].value_counts()"
   ]
  },
  {
   "cell_type": "markdown",
   "id": "3d286a6d-6c55-4c37-a3ba-af4089b26cb4",
   "metadata": {},
   "source": [
    "<h3> Insigths : The type of road that has the most frequent accidents are <b> Single Carriageway </b> with a total number accidents of 496,663 </h3>"
   ]
  },
  {
   "cell_type": "markdown",
   "id": "1badd9cd-8bf0-4244-838f-3dff5331693a",
   "metadata": {},
   "source": [
    "<h1>13) Which Vehicle Type is most frequently involved in accidents?</h1>"
   ]
  },
  {
   "cell_type": "code",
   "execution_count": 25,
   "id": "775834c3-d26a-453b-8830-5dccbbf119b2",
   "metadata": {},
   "outputs": [
    {
     "data": {
      "text/plain": [
       "Vehicle_Type\n",
       "Car                                      497992\n",
       "Van / Goods 3.5 tonnes mgw or under       34160\n",
       "Bus or coach (17 or more pass seats)      25878\n",
       "Motorcycle over 500cc                     25657\n",
       "Goods 7.5 tonnes mgw and over             17307\n",
       "Motorcycle 125cc and under                15269\n",
       "Taxi/Private hire car                     13294\n",
       "Motorcycle over 125cc and up to 500cc      7656\n",
       "Motorcycle 50cc and under                  7603\n",
       "Goods over 3.5t. and under 7.5t            6096\n",
       "Other vehicle                              5637\n",
       "Minibus (8 - 16 passenger seats)           1976\n",
       "Agricultural vehicle                       1947\n",
       "Pedal cycle                                 197\n",
       "Data missing or out of range                  6\n",
       "Ridden horse                                  4\n",
       "Name: count, dtype: int64"
      ]
     },
     "execution_count": 25,
     "metadata": {},
     "output_type": "execute_result"
    }
   ],
   "source": [
    "accident['Vehicle_Type'].value_counts()"
   ]
  },
  {
   "cell_type": "markdown",
   "id": "41d8aba7-d342-4d68-8ef8-761cd9729338",
   "metadata": {},
   "source": [
    "<h3> Insights : Vehicles such as Cars, Van and Bus are the top 3 most frequently used vehicles that are involved in accidents. Car having <b> 497,992 involved accidents </b>, Van having <b> 34,160 involved accidents </b>, and Bus having<b> 25,878 involved accidents </b></h3>"
   ]
  },
  {
   "cell_type": "markdown",
   "id": "78cfae47-4e81-40d9-8414-acbd85719763",
   "metadata": {},
   "source": [
    "<h1>14) Do motorcycles vs. cars show higher casualty counts?</h1>"
   ]
  },
  {
   "cell_type": "code",
   "execution_count": 59,
   "id": "c4cb92c5-c0e0-4f14-8322-085728417bae",
   "metadata": {},
   "outputs": [
    {
     "data": {
      "text/plain": [
       "Latitude                498313.885956\n",
       "Longitude               497982.198341\n",
       "Number_of_Casualties    498066.184790\n",
       "Number_of_Vehicles      498032.548149\n",
       "dtype: float64"
      ]
     },
     "execution_count": 59,
     "metadata": {},
     "output_type": "execute_result"
    }
   ],
   "source": [
    "accident[accident['Vehicle_Type'] == 'Car'] .describe().sum()"
   ]
  },
  {
   "cell_type": "code",
   "execution_count": 55,
   "id": "10908786-021b-4da8-b376-df8da5865d48",
   "metadata": {},
   "outputs": [
    {
     "data": {
      "text/plain": [
       "Latitude                25978.379555\n",
       "Longitude               25647.594423\n",
       "Number_of_Casualties    25690.179867\n",
       "Number_of_Vehicles      25676.543977\n",
       "dtype: float64"
      ]
     },
     "execution_count": 55,
     "metadata": {},
     "output_type": "execute_result"
    }
   ],
   "source": [
    "accident[accident['Vehicle_Type'] == 'Motorcycle over 500cc'].describe().sum()"
   ]
  },
  {
   "cell_type": "markdown",
   "id": "b251d8f0-1777-4f4c-87ce-a3453784173a",
   "metadata": {},
   "source": [
    "<h3> Insights : According to the data Cars shows a higher casualty counts having <b> 498,066 </b> of casualties, over Motorcylces with <b> 25,690 </b> number of casualties </h3>"
   ]
  },
  {
   "cell_type": "markdown",
   "id": "1d5f2890-f9b9-4051-9cb1-c4006897575a",
   "metadata": {},
   "source": [
    "<h1>15) What is the relationship between Number of Vehicles and Number of Casualties in an accident?</h1>"
   ]
  },
  {
   "cell_type": "markdown",
   "id": "df65bff7-7bd3-4907-9a26-1059a1688f34",
   "metadata": {},
   "source": [
    "<h1>16) Are there particular District Areas where heavy vehicles cause more severe accidents?</h1>"
   ]
  },
  {
   "cell_type": "markdown",
   "id": "4d2b437b-646a-4e2c-a9de-3376aa5320db",
   "metadata": {},
   "source": [
    "<h1>17) Compare Urban vs. Rural accident severity distributions.</h1>"
   ]
  },
  {
   "cell_type": "code",
   "execution_count": null,
   "id": "e5a219d3-a28f-4625-8f4d-4db44af8155f",
   "metadata": {},
   "outputs": [
    {
     "data": {
      "text/html": [
       "<div>\n",
       "<style scoped>\n",
       "    .dataframe tbody tr th:only-of-type {\n",
       "        vertical-align: middle;\n",
       "    }\n",
       "\n",
       "    .dataframe tbody tr th {\n",
       "        vertical-align: top;\n",
       "    }\n",
       "\n",
       "    .dataframe thead th {\n",
       "        text-align: right;\n",
       "    }\n",
       "</style>\n",
       "<table border=\"1\" class=\"dataframe\">\n",
       "  <thead>\n",
       "    <tr style=\"text-align: right;\">\n",
       "      <th></th>\n",
       "      <th>count</th>\n",
       "      <th>unique</th>\n",
       "      <th>top</th>\n",
       "      <th>freq</th>\n",
       "    </tr>\n",
       "    <tr>\n",
       "      <th>Accident_Severity</th>\n",
       "      <th></th>\n",
       "      <th></th>\n",
       "      <th></th>\n",
       "      <th></th>\n",
       "    </tr>\n",
       "  </thead>\n",
       "  <tbody>\n",
       "    <tr>\n",
       "      <th>Fatal</th>\n",
       "      <td>8661</td>\n",
       "      <td>2</td>\n",
       "      <td>Rural</td>\n",
       "      <td>5601</td>\n",
       "    </tr>\n",
       "    <tr>\n",
       "      <th>Serious</th>\n",
       "      <td>88217</td>\n",
       "      <td>3</td>\n",
       "      <td>Urban</td>\n",
       "      <td>50904</td>\n",
       "    </tr>\n",
       "    <tr>\n",
       "      <th>Slight</th>\n",
       "      <td>563801</td>\n",
       "      <td>3</td>\n",
       "      <td>Urban</td>\n",
       "      <td>367714</td>\n",
       "    </tr>\n",
       "  </tbody>\n",
       "</table>\n",
       "</div>"
      ],
      "text/plain": [
       "                    count unique    top    freq\n",
       "Accident_Severity                              \n",
       "Fatal                8661      2  Rural    5601\n",
       "Serious             88217      3  Urban   50904\n",
       "Slight             563801      3  Urban  367714"
      ]
     },
     "execution_count": 35,
     "metadata": {},
     "output_type": "execute_result"
    }
   ],
   "source": [
    "accident.groupby('Accident_Severity')['Urban_or_Rural_Area'].describe()"
   ]
  },
  {
   "cell_type": "markdown",
   "id": "2ff3ef30-aaad-4ddf-af6a-4d3869628b78",
   "metadata": {},
   "source": [
    "<h3> Insights : According to the data Rural places seems to Have the most Fatak accidents, whereas Urban areas have the most serious and slight recorded cases of accidents </h3>"
   ]
  },
  {
   "cell_type": "markdown",
   "id": "5eef6875-5bdf-4348-96f9-fe9498e0a07b",
   "metadata": {},
   "source": [
    "<h1>18) Do weather conditions combined with light conditions (e.g., rain at night) show higher accident severity?</h1>"
   ]
  },
  {
   "cell_type": "markdown",
   "id": "ff292f81-451b-4a8e-8beb-6fd08583574c",
   "metadata": {},
   "source": [
    "<h1>19) What trends in Accident Severity are visible over time (e.g., decreasing or increasing)?</h1>"
   ]
  },
  {
   "cell_type": "markdown",
   "id": "49244fd4-b5f9-4d9a-8eeb-9616693223d4",
   "metadata": {},
   "source": [
    "<h1>20) Can we identify the top 5 most dangerous accident scenarios (combination of road type, weather, light, vehicle type)?</h1>"
   ]
  },
  {
   "cell_type": "code",
   "execution_count": null,
   "id": "c5675f15-9779-468e-aabb-b7b034df715a",
   "metadata": {},
   "outputs": [],
   "source": []
  }
 ],
 "metadata": {
  "kernelspec": {
   "display_name": "Python (scipy-env)",
   "language": "python",
   "name": "scipy-env"
  }
 },
 "nbformat": 4,
 "nbformat_minor": 5
}
