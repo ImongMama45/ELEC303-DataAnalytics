{
 "cells": [
  {
   "cell_type": "markdown",
   "metadata": {},
   "source": [
    "<h1 style=\"margin-left:35%;\">Data Analytics Activity 4</h1>\n",
    "<hr>\n",
    "<h2><strong>Data Analyst</strong>: Quert Russel S. Lalisan</h2>\n",
    "<h3><strong>Section</strong>: BSIT - 3B</h3>\n"
   ]
  },
  {
   "cell_type": "markdown",
   "metadata": {},
   "source": [
    "# 📊 Assignment: Predicting 2024 Data Science Salaries Using Linear Regression\n",
    "\n",
    "**Course**: Data Analytics with Python  \n",
    "**Instructor**: Leonard Andrew Mesiera  \n",
    "**Due Date**: October 22, 2025\n",
    "\n",
    "## 🎯 Learning Objectives\n",
    "By the end of this assignment, you will be able to:\n",
    "- Load and explore a real-world dataset\n",
    "- Prepare data for linear regression (feature engineering, encoding, cleaning)\n",
    "- Train a simple linear regression model using `scikit-learn`\n",
    "- Evaluate your model using metrics like R² and interpret results\n",
    "- Make predictions for future years (e.g., 2024)\n",
    "\n",
    "## 📁 Dataset\n",
    "You are given the file: `Data Science Salary 2021 to 2023.csv`\n",
    "\n",
    "This dataset contains salary information for data professionals from 2021 to 2023, including:\n",
    "- `work_year`: The year the salary was recorded\n",
    "- `experience_level`: EN (Entry), MI (Mid), SE (Senior), EX (Executive)\n",
    "- `job_title`: e.g., Data Scientist, Data Analyst, etc.\n",
    "- `salary_in_usd`: Salary converted to USD (this is your target variable)\n",
    "- Other useful columns: `employment_type`, `company_location`, `company_size`\n",
    "\n",
    "Your goal: **Predict average salaries for 2024** using linear regression."
   ]
  },
  {
   "cell_type": "markdown",
   "metadata": {},
   "source": [
    "## 🛠️ Part 1: Setup and Data Loading"
   ]
  },
  {
   "cell_type": "code",
   "execution_count": 1,
   "metadata": {
    "execution": {
     "iopub.execute_input": "2025-10-28T14:40:38.122877Z",
     "iopub.status.busy": "2025-10-28T14:40:38.121880Z",
     "iopub.status.idle": "2025-10-28T14:40:54.492156Z",
     "shell.execute_reply": "2025-10-28T14:40:54.492156Z",
     "shell.execute_reply.started": "2025-10-28T14:40:38.122877Z"
    }
   },
   "outputs": [
    {
     "data": {
      "text/html": [
       "<div>\n",
       "<style scoped>\n",
       "    .dataframe tbody tr th:only-of-type {\n",
       "        vertical-align: middle;\n",
       "    }\n",
       "\n",
       "    .dataframe tbody tr th {\n",
       "        vertical-align: top;\n",
       "    }\n",
       "\n",
       "    .dataframe thead th {\n",
       "        text-align: right;\n",
       "    }\n",
       "</style>\n",
       "<table border=\"1\" class=\"dataframe\">\n",
       "  <thead>\n",
       "    <tr style=\"text-align: right;\">\n",
       "      <th></th>\n",
       "      <th>work_year</th>\n",
       "      <th>experience_level</th>\n",
       "      <th>employment_type</th>\n",
       "      <th>job_title</th>\n",
       "      <th>salary</th>\n",
       "      <th>salary_currency</th>\n",
       "      <th>salary_in_usd</th>\n",
       "      <th>company_location</th>\n",
       "      <th>company_size</th>\n",
       "    </tr>\n",
       "  </thead>\n",
       "  <tbody>\n",
       "    <tr>\n",
       "      <th>0</th>\n",
       "      <td>2023</td>\n",
       "      <td>EN</td>\n",
       "      <td>FT</td>\n",
       "      <td>Applied Scientist</td>\n",
       "      <td>213660</td>\n",
       "      <td>USD</td>\n",
       "      <td>213660</td>\n",
       "      <td>US</td>\n",
       "      <td>L</td>\n",
       "    </tr>\n",
       "    <tr>\n",
       "      <th>1</th>\n",
       "      <td>2023</td>\n",
       "      <td>EN</td>\n",
       "      <td>FT</td>\n",
       "      <td>Applied Scientist</td>\n",
       "      <td>130760</td>\n",
       "      <td>USD</td>\n",
       "      <td>130760</td>\n",
       "      <td>US</td>\n",
       "      <td>L</td>\n",
       "    </tr>\n",
       "    <tr>\n",
       "      <th>2</th>\n",
       "      <td>2023</td>\n",
       "      <td>EN</td>\n",
       "      <td>FT</td>\n",
       "      <td>Data Quality Analyst</td>\n",
       "      <td>100000</td>\n",
       "      <td>USD</td>\n",
       "      <td>100000</td>\n",
       "      <td>NG</td>\n",
       "      <td>L</td>\n",
       "    </tr>\n",
       "    <tr>\n",
       "      <th>3</th>\n",
       "      <td>2023</td>\n",
       "      <td>EN</td>\n",
       "      <td>FT</td>\n",
       "      <td>Compliance Data Analyst</td>\n",
       "      <td>30000</td>\n",
       "      <td>USD</td>\n",
       "      <td>30000</td>\n",
       "      <td>NG</td>\n",
       "      <td>L</td>\n",
       "    </tr>\n",
       "    <tr>\n",
       "      <th>4</th>\n",
       "      <td>2023</td>\n",
       "      <td>EN</td>\n",
       "      <td>FT</td>\n",
       "      <td>Applied Scientist</td>\n",
       "      <td>204620</td>\n",
       "      <td>USD</td>\n",
       "      <td>204620</td>\n",
       "      <td>US</td>\n",
       "      <td>L</td>\n",
       "    </tr>\n",
       "  </tbody>\n",
       "</table>\n",
       "</div>"
      ],
      "text/plain": [
       "   work_year experience_level employment_type                job_title  \\\n",
       "0       2023               EN              FT        Applied Scientist   \n",
       "1       2023               EN              FT        Applied Scientist   \n",
       "2       2023               EN              FT     Data Quality Analyst   \n",
       "3       2023               EN              FT  Compliance Data Analyst   \n",
       "4       2023               EN              FT        Applied Scientist   \n",
       "\n",
       "   salary salary_currency  salary_in_usd company_location company_size  \n",
       "0  213660             USD         213660               US            L  \n",
       "1  130760             USD         130760               US            L  \n",
       "2  100000             USD         100000               NG            L  \n",
       "3   30000             USD          30000               NG            L  \n",
       "4  204620             USD         204620               US            L  "
      ]
     },
     "execution_count": 1,
     "metadata": {},
     "output_type": "execute_result"
    }
   ],
   "source": [
    "# Import necessary libraries\n",
    "import pandas as pd\n",
    "import numpy as np\n",
    "import matplotlib.pyplot as plt\n",
    "import seaborn as sns\n",
    "from sklearn.model_selection import train_test_split\n",
    "from sklearn.linear_model import LinearRegression\n",
    "from sklearn.metrics import r2_score, mean_squared_error\n",
    "from sklearn.preprocessing import LabelEncoder\n",
    "\n",
    "# Load the dataset\n",
    "df = pd.read_csv('dataset/Data Science Salary 2021 to 2023.csv')\n",
    "\n",
    "# Display first few rows\n",
    "df.head()"
   ]
  },
  {
   "cell_type": "code",
   "execution_count": 2,
   "metadata": {
    "execution": {
     "iopub.execute_input": "2025-10-28T14:40:54.497288Z",
     "iopub.status.busy": "2025-10-28T14:40:54.496290Z",
     "iopub.status.idle": "2025-10-28T14:40:54.521471Z",
     "shell.execute_reply": "2025-10-28T14:40:54.520469Z",
     "shell.execute_reply.started": "2025-10-28T14:40:54.497288Z"
    }
   },
   "outputs": [
    {
     "name": "stdout",
     "output_type": "stream",
     "text": [
      "<class 'pandas.core.frame.DataFrame'>\n",
      "RangeIndex: 3761 entries, 0 to 3760\n",
      "Data columns (total 9 columns):\n",
      " #   Column            Non-Null Count  Dtype \n",
      "---  ------            --------------  ----- \n",
      " 0   work_year         3761 non-null   int64 \n",
      " 1   experience_level  3761 non-null   object\n",
      " 2   employment_type   3761 non-null   object\n",
      " 3   job_title         3761 non-null   object\n",
      " 4   salary            3761 non-null   int64 \n",
      " 5   salary_currency   3761 non-null   object\n",
      " 6   salary_in_usd     3761 non-null   int64 \n",
      " 7   company_location  3761 non-null   object\n",
      " 8   company_size      3761 non-null   object\n",
      "dtypes: int64(3), object(6)\n",
      "memory usage: 264.6+ KB\n"
     ]
    }
   ],
   "source": [
    "# Check basic info\n",
    "df.info()"
   ]
  },
  {
   "cell_type": "markdown",
   "metadata": {},
   "source": [
    "## 🔍 Part 2: Exploratory Data Analysis (EDA)\n",
    "\n",
    "Answer the following in markdown cells below (or as code comments):\n",
    "\n",
    "1. How many unique job titles are there?\n",
    "2. What is the average salary (`salary_in_usd`) per `work_year`?\n",
    "3. Create a bar plot showing average salary by `experience_level`.\n",
    "\n",
    "> 💡 Tip: Use `groupby()` and `mean()`."
   ]
  },
  {
   "cell_type": "code",
   "execution_count": 7,
   "metadata": {
    "execution": {
     "iopub.execute_input": "2025-10-28T14:42:16.909525Z",
     "iopub.status.busy": "2025-10-28T14:42:16.909525Z",
     "iopub.status.idle": "2025-10-28T14:42:16.919540Z",
     "shell.execute_reply": "2025-10-28T14:42:16.918531Z",
     "shell.execute_reply.started": "2025-10-28T14:42:16.909525Z"
    }
   },
   "outputs": [
    {
     "data": {
      "text/plain": [
       "93"
      ]
     },
     "execution_count": 7,
     "metadata": {},
     "output_type": "execute_result"
    }
   ],
   "source": [
    "# Your EDA code here\n",
    "unique_jobs = len(df['job_title'].unique())\n",
    "unique_jobs"
   ]
  },
  {
   "cell_type": "code",
   "execution_count": 10,
   "metadata": {
    "execution": {
     "iopub.execute_input": "2025-10-28T14:44:10.365070Z",
     "iopub.status.busy": "2025-10-28T14:44:10.364438Z",
     "iopub.status.idle": "2025-10-28T14:44:10.376442Z",
     "shell.execute_reply": "2025-10-28T14:44:10.375431Z",
     "shell.execute_reply.started": "2025-10-28T14:44:10.365070Z"
    }
   },
   "outputs": [
    {
     "data": {
      "text/plain": [
       "work_year\n",
       "2020     92302.631579\n",
       "2021     94087.208696\n",
       "2022    133379.510804\n",
       "2023    148954.558413\n",
       "Name: salary_in_usd, dtype: float64"
      ]
     },
     "execution_count": 10,
     "metadata": {},
     "output_type": "execute_result"
    }
   ],
   "source": [
    "df.groupby(df['work_year'])['salary_in_usd'].mean()"
   ]
  },
  {
   "cell_type": "markdown",
   "metadata": {},
   "source": [
    "## 1) How many unique job titles are there?\n",
    "There are a total of 93 unique jobs \n",
    "\n",
    "## 2) What is the average salary (salary_in_usd) per work_year?\n",
    "The average salaray in usd per work year is <strong> 92,302.63</strong> for <strong>2020</strong>, <strong>94,087.21</strong> for the year <strong>2021</strong>,  <strong>133,379.51</strong> for the year <strong>2022</strong>, and <strong>148,954.55</strong> for the year <strong>2023</strong>\n",
    "\n",
    "## 3) Create a bar plot showing average salary by experience_level.\n"
   ]
  },
  {
   "cell_type": "code",
   "execution_count": 32,
   "metadata": {
    "execution": {
     "iopub.execute_input": "2025-10-28T15:00:58.787093Z",
     "iopub.status.busy": "2025-10-28T15:00:58.786088Z",
     "iopub.status.idle": "2025-10-28T15:00:59.051470Z",
     "shell.execute_reply": "2025-10-28T15:00:59.051470Z",
     "shell.execute_reply.started": "2025-10-28T15:00:58.787093Z"
    }
   },
   "outputs": [
    {
     "data": {
      "image/png": "[encoded data removed]",
      "text/plain": [
       "<Figure size 640x480 with 1 Axes>"
      ]
     },
     "metadata": {},
     "output_type": "display_data"
    }
   ],
   "source": [
    "salary = df.groupby(df['experience_level'])['salary_in_usd'].mean()\n",
    "job_level = [\"Entry-Level\",\"Mid-level\",\"Senior-level\",\"Expert / Executive\"]\n",
    "salary.plot(kind='bar', color=\"green\")\n",
    "plt.title(\"Average salary by Level of Experience\")\n",
    "plt.xticks(ticks=range(len(job_level)), labels=job_level, rotation=0)\n",
    "plt.xlabel('Level of Experience')\n",
    "plt.ylabel('Average Salary')\n",
    "plt.tight_layout()\n",
    "plt.show()\n"
   ]
  },
  {
   "cell_type": "markdown",
   "metadata": {},
   "source": [
    "## 🧹 Part 3: Data Preprocessing for Linear Regression\n",
    "\n",
    "We will predict `salary_in_usd` using **only numerical or encoded categorical features**.\n",
    "\n",
    "### Steps:\n",
    "1. Select features: `work_year`, `experience_level`, and optionally `job_title` (you decide!)\n",
    "2. Encode categorical variables (`experience_level`) using `LabelEncoder` or `pd.get_dummies()`\n",
    "3. Define `X` (features) and `y` (target = `salary_in_usd`)\n",
    "\n",
    "> ⚠️ **Important**: Do NOT include `salary`, `salary_currency`, or `salary_in_usd` in your features!"
   ]
  },
  {
   "cell_type": "code",
   "execution_count": 42,
   "metadata": {
    "execution": {
     "iopub.execute_input": "2025-10-28T16:09:52.672140Z",
     "iopub.status.busy": "2025-10-28T16:09:52.671146Z",
     "iopub.status.idle": "2025-10-28T16:09:52.691184Z",
     "shell.execute_reply": "2025-10-28T16:09:52.690175Z",
     "shell.execute_reply.started": "2025-10-28T16:09:52.672140Z"
    }
   },
   "outputs": [
    {
     "data": {
      "text/html": [
       "<div>\n",
       "<style scoped>\n",
       "    .dataframe tbody tr th:only-of-type {\n",
       "        vertical-align: middle;\n",
       "    }\n",
       "\n",
       "    .dataframe tbody tr th {\n",
       "        vertical-align: top;\n",
       "    }\n",
       "\n",
       "    .dataframe thead th {\n",
       "        text-align: right;\n",
       "    }\n",
       "</style>\n",
       "<table border=\"1\" class=\"dataframe\">\n",
       "  <thead>\n",
       "    <tr style=\"text-align: right;\">\n",
       "      <th></th>\n",
       "      <th>work_year</th>\n",
       "      <th>experience_level</th>\n",
       "      <th>experience_level_encoded</th>\n",
       "    </tr>\n",
       "  </thead>\n",
       "  <tbody>\n",
       "    <tr>\n",
       "      <th>0</th>\n",
       "      <td>2023</td>\n",
       "      <td>EN</td>\n",
       "      <td>0</td>\n",
       "    </tr>\n",
       "    <tr>\n",
       "      <th>1</th>\n",
       "      <td>2023</td>\n",
       "      <td>EN</td>\n",
       "      <td>0</td>\n",
       "    </tr>\n",
       "    <tr>\n",
       "      <th>2</th>\n",
       "      <td>2023</td>\n",
       "      <td>EN</td>\n",
       "      <td>0</td>\n",
       "    </tr>\n",
       "    <tr>\n",
       "      <th>3</th>\n",
       "      <td>2023</td>\n",
       "      <td>EN</td>\n",
       "      <td>0</td>\n",
       "    </tr>\n",
       "    <tr>\n",
       "      <th>4</th>\n",
       "      <td>2023</td>\n",
       "      <td>EN</td>\n",
       "      <td>0</td>\n",
       "    </tr>\n",
       "  </tbody>\n",
       "</table>\n",
       "</div>"
      ],
      "text/plain": [
       "   work_year experience_level  experience_level_encoded\n",
       "0       2023               EN                         0\n",
       "1       2023               EN                         0\n",
       "2       2023               EN                         0\n",
       "3       2023               EN                         0\n",
       "4       2023               EN                         0"
      ]
     },
     "execution_count": 42,
     "metadata": {},
     "output_type": "execute_result"
    }
   ],
   "source": [
    "\n",
    "# Example: Encode experience_level\n",
    "le = LabelEncoder()\n",
    "df['experience_level_encoded'] = le.fit_transform(df['experience_level'])\n",
    "\n",
    "# Choose your features\n",
    "features = ['work_year','experience_level', 'experience_level_encoded']\n",
    "X = df[features]\n",
    "y = df['salary_in_usd']\n",
    "\n",
    "# Optional: Add more features like job_title (try it!)\n",
    "# But remember: too many categories can hurt performance\n",
    "\n",
    "X.head()"
   ]
  },
  {
   "cell_type": "code",
   "execution_count": 36,
   "metadata": {
    "execution": {
     "iopub.execute_input": "2025-10-28T15:16:18.926540Z",
     "iopub.status.busy": "2025-10-28T15:16:18.926540Z",
     "iopub.status.idle": "2025-10-28T15:16:18.948795Z",
     "shell.execute_reply": "2025-10-28T15:16:18.947785Z",
     "shell.execute_reply.started": "2025-10-28T15:16:18.926540Z"
    }
   },
   "outputs": [
    {
     "name": "stdout",
     "output_type": "stream",
     "text": [
      "<class 'pandas.core.frame.DataFrame'>\n",
      "RangeIndex: 3761 entries, 0 to 3760\n",
      "Data columns (total 10 columns):\n",
      " #   Column                    Non-Null Count  Dtype \n",
      "---  ------                    --------------  ----- \n",
      " 0   work_year                 3761 non-null   int64 \n",
      " 1   experience_level          3761 non-null   object\n",
      " 2   employment_type           3761 non-null   object\n",
      " 3   job_title                 3761 non-null   object\n",
      " 4   salary                    3761 non-null   int64 \n",
      " 5   salary_currency           3761 non-null   object\n",
      " 6   salary_in_usd             3761 non-null   int64 \n",
      " 7   company_location          3761 non-null   object\n",
      " 8   company_size              3761 non-null   object\n",
      " 9   experience_level_encoded  3761 non-null   int64 \n",
      "dtypes: int64(4), object(6)\n",
      "memory usage: 294.0+ KB\n"
     ]
    }
   ],
   "source": [
    "df.info()"
   ]
  },
  {
   "cell_type": "code",
   "execution_count": 71,
   "metadata": {
    "execution": {
     "iopub.execute_input": "2025-10-28T16:42:31.759340Z",
     "iopub.status.busy": "2025-10-28T16:42:31.759340Z",
     "iopub.status.idle": "2025-10-28T16:42:31.779827Z",
     "shell.execute_reply": "2025-10-28T16:42:31.779827Z",
     "shell.execute_reply.started": "2025-10-28T16:42:31.759340Z"
    }
   },
   "outputs": [
    {
     "data": {
      "text/html": [
       "<div>\n",
       "<style scoped>\n",
       "    .dataframe tbody tr th:only-of-type {\n",
       "        vertical-align: middle;\n",
       "    }\n",
       "\n",
       "    .dataframe tbody tr th {\n",
       "        vertical-align: top;\n",
       "    }\n",
       "\n",
       "    .dataframe thead th {\n",
       "        text-align: right;\n",
       "    }\n",
       "</style>\n",
       "<table border=\"1\" class=\"dataframe\">\n",
       "  <thead>\n",
       "    <tr style=\"text-align: right;\">\n",
       "      <th></th>\n",
       "      <th>work_year</th>\n",
       "      <th>experience_level_encoded</th>\n",
       "      <th>job_title_encoded</th>\n",
       "      <th>company_size_encoded</th>\n",
       "    </tr>\n",
       "  </thead>\n",
       "  <tbody>\n",
       "    <tr>\n",
       "      <th>0</th>\n",
       "      <td>2023</td>\n",
       "      <td>0</td>\n",
       "      <td>8</td>\n",
       "      <td>0</td>\n",
       "    </tr>\n",
       "    <tr>\n",
       "      <th>1</th>\n",
       "      <td>2023</td>\n",
       "      <td>0</td>\n",
       "      <td>8</td>\n",
       "      <td>0</td>\n",
       "    </tr>\n",
       "    <tr>\n",
       "      <th>2</th>\n",
       "      <td>2023</td>\n",
       "      <td>0</td>\n",
       "      <td>41</td>\n",
       "      <td>0</td>\n",
       "    </tr>\n",
       "    <tr>\n",
       "      <th>3</th>\n",
       "      <td>2023</td>\n",
       "      <td>0</td>\n",
       "      <td>22</td>\n",
       "      <td>0</td>\n",
       "    </tr>\n",
       "    <tr>\n",
       "      <th>4</th>\n",
       "      <td>2023</td>\n",
       "      <td>0</td>\n",
       "      <td>8</td>\n",
       "      <td>0</td>\n",
       "    </tr>\n",
       "  </tbody>\n",
       "</table>\n",
       "</div>"
      ],
      "text/plain": [
       "   work_year  experience_level_encoded  job_title_encoded  \\\n",
       "0       2023                         0                  8   \n",
       "1       2023                         0                  8   \n",
       "2       2023                         0                 41   \n",
       "3       2023                         0                 22   \n",
       "4       2023                         0                  8   \n",
       "\n",
       "   company_size_encoded  \n",
       "0                     0  \n",
       "1                     0  \n",
       "2                     0  \n",
       "3                     0  \n",
       "4                     0  "
      ]
     },
     "execution_count": 71,
     "metadata": {},
     "output_type": "execute_result"
    }
   ],
   "source": [
    "\n",
    "# Example: Encode experience_level\n",
    "le = LabelEncoder()\n",
    "df['company_size_encoded'] = le.fit_transform(df['company_size'])\n",
    "df['experience_level_encoded'] = le.fit_transform(df['experience_level'])\n",
    "df['job_title_encoded'] = le.fit_transform(df['job_title'])\n",
    "# Choose your features\n",
    "features = ['work_year', 'experience_level_encoded', 'job_title_encoded','company_size_encoded']\n",
    "X = df[features]\n",
    "y = df['salary_in_usd']\n",
    "\n",
    "# Optional: Add more features like job_title (try it!)\n",
    "# But remember: too many categories can hurt performance\n",
    "\n",
    "X.head()"
   ]
  },
  {
   "cell_type": "markdown",
   "metadata": {},
   "source": [
    "## 📈 Part 4: Train a Linear Regression Model"
   ]
  },
  {
   "cell_type": "code",
   "execution_count": 72,
   "metadata": {
    "execution": {
     "iopub.execute_input": "2025-10-28T16:42:33.937856Z",
     "iopub.status.busy": "2025-10-28T16:42:33.936895Z",
     "iopub.status.idle": "2025-10-28T16:42:33.956543Z",
     "shell.execute_reply": "2025-10-28T16:42:33.956543Z",
     "shell.execute_reply.started": "2025-10-28T16:42:33.937856Z"
    }
   },
   "outputs": [
    {
     "name": "stdout",
     "output_type": "stream",
     "text": [
      "R² Score: 0.17\n",
      "RMSE: 58323.90\n"
     ]
    }
   ],
   "source": [
    "# Split data into train and test sets (80/20)\n",
    "X_train, X_test, y_train, y_test = train_test_split(X, y, test_size=0.2, random_state=42)\n",
    "\n",
    "# Create and train the model\n",
    "model = LinearRegression()\n",
    "model.fit(X_train, y_train)\n",
    "\n",
    "# Make predictions\n",
    "y_pred = model.predict(X_test)\n",
    "\n",
    "# Evaluate\n",
    "print(f\"R² Score: {r2_score(y_test, y_pred):.2f}\")\n",
    "print(f\"RMSE: {np.sqrt(mean_squared_error(y_test, y_pred)):.2f}\")"
   ]
  },
  {
   "cell_type": "markdown",
   "metadata": {},
   "source": [
    "## 🔮 Part 5: Predict 2024 Salaries\n",
    "\n",
    "Now, create a small DataFrame for **2024** with different experience levels and predict their salaries.\n",
    "\n",
    "Use the same encoding as before!"
   ]
  },
  {
   "cell_type": "code",
   "execution_count": 69,
   "metadata": {
    "execution": {
     "iopub.execute_input": "2025-10-28T16:41:09.011791Z",
     "iopub.status.busy": "2025-10-28T16:41:09.011791Z",
     "iopub.status.idle": "2025-10-28T16:41:09.020795Z",
     "shell.execute_reply": "2025-10-28T16:41:09.019782Z",
     "shell.execute_reply.started": "2025-10-28T16:41:09.011791Z"
    }
   },
   "outputs": [
    {
     "data": {
      "text/plain": [
       "0          Applied Scientist\n",
       "1          Applied Scientist\n",
       "2       Data Quality Analyst\n",
       "3    Compliance Data Analyst\n",
       "4          Applied Scientist\n",
       "Name: job_title, dtype: object"
      ]
     },
     "execution_count": 69,
     "metadata": {},
     "output_type": "execute_result"
    }
   ],
   "source": [
    "df['job_title'].head()"
   ]
  },
  {
   "cell_type": "code",
   "execution_count": 81,
   "metadata": {
    "execution": {
     "iopub.execute_input": "2025-10-28T16:47:38.303183Z",
     "iopub.status.busy": "2025-10-28T16:47:38.303183Z",
     "iopub.status.idle": "2025-10-28T16:47:38.318759Z",
     "shell.execute_reply": "2025-10-28T16:47:38.318178Z",
     "shell.execute_reply.started": "2025-10-28T16:47:38.303183Z"
    }
   },
   "outputs": [
    {
     "data": {
      "text/html": [
       "<div>\n",
       "<style scoped>\n",
       "    .dataframe tbody tr th:only-of-type {\n",
       "        vertical-align: middle;\n",
       "    }\n",
       "\n",
       "    .dataframe tbody tr th {\n",
       "        vertical-align: top;\n",
       "    }\n",
       "\n",
       "    .dataframe thead th {\n",
       "        text-align: right;\n",
       "    }\n",
       "</style>\n",
       "<table border=\"1\" class=\"dataframe\">\n",
       "  <thead>\n",
       "    <tr style=\"text-align: right;\">\n",
       "      <th></th>\n",
       "      <th>Experience Level</th>\n",
       "      <th>Predicted 2024 Salary (USD)</th>\n",
       "    </tr>\n",
       "  </thead>\n",
       "  <tbody>\n",
       "    <tr>\n",
       "      <th>0</th>\n",
       "      <td>Entry</td>\n",
       "      <td>103292.589788</td>\n",
       "    </tr>\n",
       "    <tr>\n",
       "      <th>1</th>\n",
       "      <td>Mid</td>\n",
       "      <td>118110.192652</td>\n",
       "    </tr>\n",
       "    <tr>\n",
       "      <th>2</th>\n",
       "      <td>Senior</td>\n",
       "      <td>132927.795515</td>\n",
       "    </tr>\n",
       "    <tr>\n",
       "      <th>3</th>\n",
       "      <td>Executive</td>\n",
       "      <td>147745.398379</td>\n",
       "    </tr>\n",
       "  </tbody>\n",
       "</table>\n",
       "</div>"
      ],
      "text/plain": [
       "  Experience Level  Predicted 2024 Salary (USD)\n",
       "0            Entry                103292.589788\n",
       "1              Mid                118110.192652\n",
       "2           Senior                132927.795515\n",
       "3        Executive                147745.398379"
      ]
     },
     "execution_count": 81,
     "metadata": {},
     "output_type": "execute_result"
    }
   ],
   "source": [
    "# Map experience levels to encoded values (check your LabelEncoder!)\n",
    "# Example: EN=0, MI=1, SE=2, EX=3 (confirm with `le.classes_`)\n",
    "\n",
    "future_data = pd.DataFrame({\n",
    "    'work_year': [2024, 2024, 2024, 2024],\n",
    "    'experience_level_encoded': [0, 1, 2, 3],  # EN, MI, SE, EX\n",
    "      'job_title_encoded': [0, 1, 2, 3],\n",
    "    'company_size_encoded': [0, 1, 2, 3],\n",
    "})\n",
    "\n",
    "# Predict\n",
    "predicted_salaries = model.predict(future_data)\n",
    "\n",
    "# Display results\n",
    "results = pd.DataFrame({\n",
    "    'Experience Level': ['Entry', 'Mid', 'Senior', 'Executive'],\n",
    "    'Predicted 2024 Salary (USD)': predicted_salaries,\n",
    "})\n",
    "results"
   ]
  },
  {
   "cell_type": "markdown",
   "metadata": {},
   "source": [
    "## 📝 Part 6: Reflection (Answer in a Markdown Cell)\n",
    "\n",
    "1. Does your model make reasonable predictions? Why or why not?\n",
    "2. What are the limitations of using only `work_year` and `experience_level`?\n",
    "3. How could you improve this model? (Think: more features, better encoding, etc.)\n",
    "4. Why is **R² not enough** to trust your predictions?\n",
    "\n",
    "> 💡 Remember: Linear regression assumes a **linear trend**—but real salaries may grow non-linearly!"
   ]
  },
  {
   "cell_type": "markdown",
   "metadata": {},
   "source": [
    "## 1) Does your model make reasonable predictions? Why or why not\n",
    "  <pre>Yes it does, it does this by basing its predictions from past trends and using the other categories which could affect the result. But it’s not very accurate because it doesn’t know other important things like the job type, company, or where the person works. So, the results are just rough guesses.</pre>\n",
    "## 2) What are the limitations of using only work_year and experience_level?\n",
    "<pre> The limitation on only using Work year and experience level is that its very simple, there are other categories that also affects the salary of a person such as their job, their location, and the size of their company to simply put, the salary of a person is not binded by the years of experience but by also other factors in their job</pre>\n",
    "\n",
    "## 3) How could you improve this model? (Think: more features, better encoding, etc.)\n",
    "<pre> You can make it better by adding more details, like job title, company size, or location. You can also use better ways to turn text into numbers (like one-hot encoding) and try smarter models like Random Forest or XGBoost. </pre>\n",
    "\n",
    "## 4) Why is R² not enough to trust your predictions?\n",
    "<pre> R² only tells how well the model fits the data you gave it. It doesn’t mean it will predict new data correctly. A model can have a high R² and still be bad at making real-world predictions. </pre>"
   ]
  },
  {
   "cell_type": "markdown",
   "metadata": {},
   "source": [
    "## 📤 Submission Instructions\n",
    "\n",
    "- Save this notebook as: `LastName_FirstName_SalaryPrediction.ipynb`\n",
    "- Ensure all code runs without errors\n",
    "- Include your answers to the reflection questions\n",
    "- Submit via [your LMS/email/etc.]\n",
    "\n",
    "Good luck! 🚀"
   ]
  }
 ],
 "metadata": {
  "kernelspec": {
   "display_name": "Python 3 (ipykernel)",
   "language": "python",
   "name": "python3"
  },
  "language_info": {
   "codemirror_mode": {
    "name": "ipython",
    "version": 3
   },
   "file_extension": ".py",
   "mimetype": "text/x-python",
   "name": "python",
   "nbconvert_exporter": "python",
   "pygments_lexer": "ipython3",
   "version": "3.12.3"
  }
 },
 "nbformat": 4,
 "nbformat_minor": 4
}
